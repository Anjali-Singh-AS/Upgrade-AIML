{
 "cells": [
  {
   "cell_type": "code",
   "execution_count": 13,
   "metadata": {
    "scrolled": true
   },
   "outputs": [
    {
     "name": "stdout",
     "output_type": "stream",
     "text": [
      "subtraction: 37\n"
     ]
    }
   ],
   "source": [
    "x= 50\n",
    "y= 13\n",
    "\n",
    "Z= x-y\n",
    "\n",
    "print (\"subtraction:\",Z)\n"
   ]
  },
  {
   "cell_type": "raw",
   "metadata": {},
   "source": [
    "# 4th Root program "
   ]
  },
  {
   "cell_type": "code",
   "execution_count": 14,
   "metadata": {},
   "outputs": [
    {
     "name": "stdout",
     "output_type": "stream",
     "text": [
      "2.0\n"
     ]
    }
   ],
   "source": [
    "x = 16\n",
    "y= x**(1/4)\n",
    "print(y)\n"
   ]
  },
  {
   "cell_type": "code",
   "execution_count": 20,
   "metadata": {},
   "outputs": [
    {
     "name": "stdout",
     "output_type": "stream",
     "text": [
      "x =  10\n",
      "y =  5\n"
     ]
    }
   ],
   "source": [
    "# Swap the numbers with temp variable\n",
    "\n",
    "x = 5\n",
    "y = 10\n",
    "\n",
    "# To take inputs from the user\n",
    "#x = input('Enter value of x: ')\n",
    "#y = input('Enter value of y: ')\n",
    "\n",
    "# create a temporary variable and swap the values\n",
    "t = x\n",
    "x = y\n",
    "y = t\n",
    "\n",
    "print('x = ',x)\n",
    "print('y = ',y)"
   ]
  },
  {
   "cell_type": "code",
   "execution_count": 19,
   "metadata": {},
   "outputs": [
    {
     "name": "stdout",
     "output_type": "stream",
     "text": [
      "x = 10\n",
      "y = 5\n"
     ]
    }
   ],
   "source": [
    "# Swap numbers without variable\n",
    "x = 5\n",
    "y = 10\n",
    "\n",
    "x, y = y, x\n",
    "print(\"x =\", x)\n",
    "print(\"y =\", y)"
   ]
  },
  {
   "cell_type": "code",
   "execution_count": 23,
   "metadata": {},
   "outputs": [
    {
     "name": "stdout",
     "output_type": "stream",
     "text": [
      "Kelvin =  272.3888888888889 K\n",
      "Celcius =  -1.1111111111110858 C\n"
     ]
    }
   ],
   "source": [
    "#convert fahrenheit to kelvin and Celcius\n",
    "F= 30\n",
    "\n",
    "k = 273.5 + ((F - 32.0) * (5.0/9.0))\n",
    "c= k- 273.5\n",
    "\n",
    "print('Kelvin = ',k,\"K\")\n",
    "print('Celcius = ',c,\"C\")"
   ]
  },
  {
   "cell_type": "code",
   "execution_count": 27,
   "metadata": {},
   "outputs": [
    {
     "data": {
      "text/plain": [
       "int"
      ]
     },
     "execution_count": 27,
     "metadata": {},
     "output_type": "execute_result"
    }
   ],
   "source": [
    "# datatype\n",
    "\n",
    "x= \"Anjali\"\n",
    "y=12.435\n",
    "z=12\n",
    "type(x)\n",
    "type(y)\n",
    "type(z)\n",
    "\n"
   ]
  },
  {
   "cell_type": "markdown",
   "metadata": {},
   "source": [
    "Create github"
   ]
  },
  {
   "cell_type": "code",
   "execution_count": null,
   "metadata": {},
   "outputs": [],
   "source": []
  }
 ],
 "metadata": {
  "kernelspec": {
   "display_name": "Python 3",
   "language": "python",
   "name": "python3"
  },
  "language_info": {
   "codemirror_mode": {
    "name": "ipython",
    "version": 3
   },
   "file_extension": ".py",
   "mimetype": "text/x-python",
   "name": "python",
   "nbconvert_exporter": "python",
   "pygments_lexer": "ipython3",
   "version": "3.6.5"
  }
 },
 "nbformat": 4,
 "nbformat_minor": 2
}
