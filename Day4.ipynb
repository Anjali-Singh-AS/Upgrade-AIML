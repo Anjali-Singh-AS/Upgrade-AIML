{
 "cells": [
  {
   "cell_type": "code",
   "execution_count": 1,
   "metadata": {},
   "outputs": [
    {
     "name": "stdout",
     "output_type": "stream",
     "text": [
      "2.0\n"
     ]
    }
   ],
   "source": [
    "#Consider two numbers. Perform their subtraction and if the result of subtraction is greater than 25, \n",
    "#print their multiplication result else print their division result.\n",
    "\n",
    "x= 40\n",
    "y= 20\n",
    "z= x-y\n",
    "if z>25:\n",
    "    print(x*y)\n",
    "else:\n",
    "    print(x/y)"
   ]
  },
  {
   "cell_type": "code",
   "execution_count": 4,
   "metadata": {},
   "outputs": [
    {
     "name": "stdout",
     "output_type": "stream",
     "text": [
      "142\n",
      "2\n",
      "14\n",
      "194\n",
      "322\n",
      "34\n"
     ]
    }
   ],
   "source": [
    "#Consider a list of 10 elements of integer values. If the number in the list is divisible by 2, print the\n",
    "#result as \"square of that number minus 2\".\n",
    "\n",
    "l=[12,2,3,13,4,14,5,18,7,6]\n",
    "\n",
    "for i in l:\n",
    "    if i%2==0:\n",
    "        print(i**2-2)\n",
    "        \n",
    "    "
   ]
  },
  {
   "cell_type": "code",
   "execution_count": 5,
   "metadata": {},
   "outputs": [
    {
     "name": "stdout",
     "output_type": "stream",
     "text": [
      "12\n",
      "14\n",
      "18\n"
     ]
    }
   ],
   "source": [
    "#Consider a list of 10 elements. Print all the elements in the list which are greater than 7 when that\n",
    "#number is divided 2.\n",
    "l=[12,2,3,13,4,14,5,18,7,6]\n",
    "\n",
    "for i in l:\n",
    "    if i%2==0:\n",
    "        if(i>7):\n",
    "            print(i)\n"
   ]
  },
  {
   "cell_type": "code",
   "execution_count": null,
   "metadata": {},
   "outputs": [],
   "source": []
  }
 ],
 "metadata": {
  "kernelspec": {
   "display_name": "Python 3",
   "language": "python",
   "name": "python3"
  },
  "language_info": {
   "codemirror_mode": {
    "name": "ipython",
    "version": 3
   },
   "file_extension": ".py",
   "mimetype": "text/x-python",
   "name": "python",
   "nbconvert_exporter": "python",
   "pygments_lexer": "ipython3",
   "version": "3.6.5"
  }
 },
 "nbformat": 4,
 "nbformat_minor": 2
}
